{
  "nbformat": 4,
  "nbformat_minor": 0,
  "metadata": {
    "colab": {
      "provenance": [],
      "gpuType": "T4",
      "authorship_tag": "ABX9TyPuwiE+TjyKaqizId/IznuZ",
      "include_colab_link": true
    },
    "kernelspec": {
      "name": "python3",
      "display_name": "Python 3"
    },
    "language_info": {
      "name": "python"
    },
    "accelerator": "GPU"
  },
  "cells": [
    {
      "cell_type": "markdown",
      "metadata": {
        "id": "view-in-github",
        "colab_type": "text"
      },
      "source": [
        "<a href=\"https://colab.research.google.com/github/andylolu2/simpleGEMM/blob/master/colab/simpleGEMM.ipynb\" target=\"_parent\"><img src=\"https://colab.research.google.com/assets/colab-badge.svg\" alt=\"Open In Colab\"/></a>"
      ]
    },
    {
      "cell_type": "code",
      "execution_count": 12,
      "metadata": {
        "colab": {
          "base_uri": "https://localhost:8080/"
        },
        "id": "YwlrNKDABN0q",
        "outputId": "5c6e202e-082b-4029-cb55-b9f9dd745437"
      },
      "outputs": [
        {
          "output_type": "stream",
          "name": "stdout",
          "text": [
            "Cloning into 'simpleGEMM'...\n",
            "remote: Enumerating objects: 34, done.\u001b[K\n",
            "remote: Counting objects: 100% (34/34), done.\u001b[K\n",
            "remote: Compressing objects: 100% (25/25), done.\u001b[K\n",
            "remote: Total 34 (delta 18), reused 19 (delta 8), pack-reused 0\u001b[K\n",
            "Receiving objects: 100% (34/34), 14.39 KiB | 14.39 MiB/s, done.\n",
            "Resolving deltas: 100% (18/18), done.\n",
            "Submodule 'src/cutlass' (https://github.com/NVIDIA/cutlass.git) registered for path 'cutlass'\n",
            "Cloning into '/content/simpleGEMM/cutlass'...\n",
            "remote: Enumerating objects: 26417, done.        \n",
            "remote: Counting objects: 100% (7566/7566), done.        \n",
            "remote: Compressing objects: 100% (976/976), done.        \n",
            "remote: Total 26417 (delta 6938), reused 6603 (delta 6590), pack-reused 18851        \n",
            "Receiving objects: 100% (26417/26417), 41.14 MiB | 25.30 MiB/s, done.\n",
            "Resolving deltas: 100% (20145/20145), done.\n",
            "Submodule path 'cutlass': checked out '19f3cc33f1642b490ed7126ea0141f79c0045527'\n",
            "/content/simpleGEMM\n"
          ]
        }
      ],
      "source": [
        "!git clone --recurse-submodules https://github.com/andylolu2/simpleGEMM.git\n",
        "%cd simpleGEMM"
      ]
    },
    {
      "cell_type": "code",
      "source": [
        "!mkdir build\n",
        "!nvcc \\\n",
        "    --include-path ./ \\\n",
        "    --include-path cutlass/include \\\n",
        "    --generate-code=arch=compute_75,code=[compute_75,sm_75] \\\n",
        "    --expt-relaxed-constexpr \\\n",
        "    -forward-unknown-to-host-compiler \\\n",
        "    -std=c++17 \\\n",
        "    -O3 \\\n",
        "    -o build/main \\\n",
        "    main.cu"
      ],
      "metadata": {
        "colab": {
          "base_uri": "https://localhost:8080/"
        },
        "id": "taELdtNWBh-t",
        "outputId": "0e32af1d-3264-4c5f-836d-9068b9b6b8c3"
      },
      "execution_count": 24,
      "outputs": [
        {
          "output_type": "stream",
          "name": "stdout",
          "text": [
            "mkdir: cannot create directory ‘build’: File exists\n"
          ]
        }
      ]
    },
    {
      "cell_type": "code",
      "source": [
        "!./build/main 4096 4096 4096 1000"
      ],
      "metadata": {
        "colab": {
          "base_uri": "https://localhost:8080/"
        },
        "id": "Ae58t-bkCfio",
        "outputId": "73f9b513-7c92-4297-bfce-c0e5e5fbb0e9"
      },
      "execution_count": 25,
      "outputs": [
        {
          "output_type": "stream",
          "name": "stdout",
          "text": [
            "Time elapse: 4524.4ms\n",
            "TFLOPS: 30.3773\n"
          ]
        }
      ]
    },
    {
      "cell_type": "code",
      "source": [
        "# Compare against PyTorch (CuBLAS)\n",
        "import torch\n",
        "\n",
        "M, N, K = 4096, 4096, 4096\n",
        "iters = 1000\n",
        "\n",
        "A = torch.randn(M, K, dtype=torch.float16, device=\"cuda\")\n",
        "B = torch.randn(N, K, dtype=torch.float16, device=\"cuda\").T\n",
        "\n",
        "start = torch.cuda.Event(enable_timing=True)\n",
        "end = torch.cuda.Event(enable_timing=True)\n",
        "start.record()\n",
        "for _ in range(iters):\n",
        "    C = A @ B\n",
        "end.record()\n",
        "torch.cuda.synchronize()\n",
        "\n",
        "total_duration = start.elapsed_time(end)  # in ms\n",
        "tflops = 2 * M * N * K * iters / (total_duration / 1000) / 1e12\n",
        "print(f\"Time elapse: {total_duration:.2f}ms\")\n",
        "print(f\"TFLOPS: {tflops:.4f}\")"
      ],
      "metadata": {
        "colab": {
          "base_uri": "https://localhost:8080/"
        },
        "id": "znxkM_A7Cwqy",
        "outputId": "2062b350-43c6-43e2-a958-50b57d9dcc53"
      },
      "execution_count": 23,
      "outputs": [
        {
          "output_type": "stream",
          "name": "stdout",
          "text": [
            "Time elapse: 7318.69ms\n",
            "TFLOPS: 18.7792\n"
          ]
        }
      ]
    },
    {
      "cell_type": "markdown",
      "source": [
        "> TODO: Why is PyTorch so slow?"
      ],
      "metadata": {
        "id": "OXw0Wv8rEqxG"
      }
    }
  ]
}